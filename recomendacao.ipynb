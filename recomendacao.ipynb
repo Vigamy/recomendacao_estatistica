{
 "cells": [
  {
   "cell_type": "markdown",
   "metadata": {},
   "source": [
    "# <center> 📈Trabalho Grupo Recomendações Estatística📈 </center>"
   ]
  },
  {
   "cell_type": "markdown",
   "metadata": {},
   "source": [
    "### Importando a(s) biblioteca(s)"
   ]
  },
  {
   "cell_type": "code",
   "execution_count": 118,
   "metadata": {},
   "outputs": [],
   "source": [
    "import pandas as pd"
   ]
  },
  {
   "cell_type": "markdown",
   "metadata": {},
   "source": [
    "### Pegando o excel e mostrando-o\n"
   ]
  },
  {
   "cell_type": "code",
   "execution_count": 119,
   "metadata": {},
   "outputs": [
    {
     "data": {
      "text/html": [
       "<div>\n",
       "<style scoped>\n",
       "    .dataframe tbody tr th:only-of-type {\n",
       "        vertical-align: middle;\n",
       "    }\n",
       "\n",
       "    .dataframe tbody tr th {\n",
       "        vertical-align: top;\n",
       "    }\n",
       "\n",
       "    .dataframe thead th {\n",
       "        text-align: right;\n",
       "    }\n",
       "</style>\n",
       "<table border=\"1\" class=\"dataframe\">\n",
       "  <thead>\n",
       "    <tr style=\"text-align: right;\">\n",
       "      <th></th>\n",
       "      <th>Row ID</th>\n",
       "      <th>Order ID</th>\n",
       "      <th>Sub-Category</th>\n",
       "    </tr>\n",
       "  </thead>\n",
       "  <tbody>\n",
       "    <tr>\n",
       "      <th>0</th>\n",
       "      <td>1</td>\n",
       "      <td>CA-2016-152156</td>\n",
       "      <td>Bookcases</td>\n",
       "    </tr>\n",
       "    <tr>\n",
       "      <th>1</th>\n",
       "      <td>2</td>\n",
       "      <td>CA-2016-152156</td>\n",
       "      <td>Chairs</td>\n",
       "    </tr>\n",
       "    <tr>\n",
       "      <th>2</th>\n",
       "      <td>3</td>\n",
       "      <td>CA-2016-138688</td>\n",
       "      <td>Labels</td>\n",
       "    </tr>\n",
       "    <tr>\n",
       "      <th>3</th>\n",
       "      <td>4</td>\n",
       "      <td>US-2015-108966</td>\n",
       "      <td>Tables</td>\n",
       "    </tr>\n",
       "    <tr>\n",
       "      <th>4</th>\n",
       "      <td>5</td>\n",
       "      <td>US-2015-108966</td>\n",
       "      <td>Storage</td>\n",
       "    </tr>\n",
       "    <tr>\n",
       "      <th>...</th>\n",
       "      <td>...</td>\n",
       "      <td>...</td>\n",
       "      <td>...</td>\n",
       "    </tr>\n",
       "    <tr>\n",
       "      <th>9989</th>\n",
       "      <td>9990</td>\n",
       "      <td>CA-2014-110422</td>\n",
       "      <td>Furnishings</td>\n",
       "    </tr>\n",
       "    <tr>\n",
       "      <th>9990</th>\n",
       "      <td>9991</td>\n",
       "      <td>CA-2017-121258</td>\n",
       "      <td>Furnishings</td>\n",
       "    </tr>\n",
       "    <tr>\n",
       "      <th>9991</th>\n",
       "      <td>9992</td>\n",
       "      <td>CA-2017-121258</td>\n",
       "      <td>Phones</td>\n",
       "    </tr>\n",
       "    <tr>\n",
       "      <th>9992</th>\n",
       "      <td>9993</td>\n",
       "      <td>CA-2017-121258</td>\n",
       "      <td>Paper</td>\n",
       "    </tr>\n",
       "    <tr>\n",
       "      <th>9993</th>\n",
       "      <td>9994</td>\n",
       "      <td>CA-2017-119914</td>\n",
       "      <td>Appliances</td>\n",
       "    </tr>\n",
       "  </tbody>\n",
       "</table>\n",
       "<p>9994 rows × 3 columns</p>\n",
       "</div>"
      ],
      "text/plain": [
       "      Row ID        Order ID Sub-Category\n",
       "0          1  CA-2016-152156    Bookcases\n",
       "1          2  CA-2016-152156       Chairs\n",
       "2          3  CA-2016-138688       Labels\n",
       "3          4  US-2015-108966       Tables\n",
       "4          5  US-2015-108966      Storage\n",
       "...      ...             ...          ...\n",
       "9989    9990  CA-2014-110422  Furnishings\n",
       "9990    9991  CA-2017-121258  Furnishings\n",
       "9991    9992  CA-2017-121258       Phones\n",
       "9992    9993  CA-2017-121258        Paper\n",
       "9993    9994  CA-2017-119914   Appliances\n",
       "\n",
       "[9994 rows x 3 columns]"
      ]
     },
     "metadata": {},
     "output_type": "display_data"
    }
   ],
   "source": [
    "df = pd.read_excel(\"loja.xlsx\")\n",
    "df_unicos = df[\"Sub-Category\"].unique()\n",
    "display(df)"
   ]
  },
  {
   "cell_type": "markdown",
   "metadata": {},
   "source": [
    "#### Importando as bibliotecas"
   ]
  },
  {
   "cell_type": "code",
   "execution_count": 120,
   "metadata": {},
   "outputs": [],
   "source": [
    "qtdCategorias = 1"
   ]
  },
  {
   "cell_type": "code",
   "execution_count": 126,
   "metadata": {},
   "outputs": [
    {
     "name": "stdout",
     "output_type": "stream",
     "text": [
      "Bookcases\n",
      "Chairs\n",
      "Labels\n",
      "Tables\n",
      "Storage\n",
      "Furnishings\n",
      "Art\n",
      "Phones\n",
      "Binders\n",
      "Appliances\n",
      "Paper\n",
      "Accessories\n",
      "Envelopes\n",
      "Fasteners\n",
      "Supplies\n",
      "Machines\n",
      "Copiers\n"
     ]
    },
    {
     "data": {
      "text/plain": [
       "array(['Bookcases', 'Chairs', 'Labels', 'Tables', 'Storage',\n",
       "       'Furnishings', 'Art', 'Phones', 'Binders', 'Appliances', 'Paper',\n",
       "       'Accessories', 'Envelopes', 'Fasteners', 'Supplies', 'Machines',\n",
       "       'Copiers'], dtype=object)"
      ]
     },
     "metadata": {},
     "output_type": "display_data"
    }
   ],
   "source": [
    "# if qtdProdutos < 0:# n\n",
    "\n",
    "quant_cadeiras = df.loc[df['Sub-Category']==\"Chairs\"].size\n",
    "quant_phones = df.loc[df['Sub-Category']==\"phones\"].size\n",
    "\n",
    "\n",
    "total = df['Sub-Category'].unique()\n",
    "cont=0\n",
    "for i in total:\n",
    "    print(i)\n",
    "    \n",
    "    \n",
    "\n",
    "display(df_unicos)\n"
   ]
  },
  {
   "cell_type": "markdown",
   "metadata": {},
   "source": [
    "### Pegar valor se ele não estiver com nada no carrinho"
   ]
  },
  {
   "cell_type": "code",
   "execution_count": 128,
   "metadata": {},
   "outputs": [
    {
     "name": "stdout",
     "output_type": "stream",
     "text": [
      "Chairs\n"
     ]
    }
   ],
   "source": [
    "# for categoria in qtdCategorias:\n",
    "#     if df_unicos:\n",
    "print(df_unicos[1])"
   ]
  },
  {
   "cell_type": "markdown",
   "metadata": {},
   "source": [
    "### Calculando a probabilidade"
   ]
  },
  {
   "cell_type": "markdown",
   "metadata": {},
   "source": [
    "# Se o usuário estiver com o carrinho vazio\n"
   ]
  },
  {
   "cell_type": "code",
   "execution_count": 130,
   "metadata": {},
   "outputs": [
    {
     "name": "stdout",
     "output_type": "stream",
     "text": [
      "0         Bookcases\n",
      "1            Chairs\n",
      "2            Labels\n",
      "3            Tables\n",
      "4           Storage\n",
      "           ...     \n",
      "9989    Furnishings\n",
      "9990    Furnishings\n",
      "9991         Phones\n",
      "9992          Paper\n",
      "9993     Appliances\n",
      "Name: Sub-Category, Length: 9994, dtype: object\n",
      "0         Bookcases\n",
      "1            Chairs\n",
      "2            Labels\n",
      "3            Tables\n",
      "4           Storage\n",
      "           ...     \n",
      "9989    Furnishings\n",
      "9990    Furnishings\n",
      "9991         Phones\n",
      "9992          Paper\n",
      "9993     Appliances\n",
      "Name: Sub-Category, Length: 9994, dtype: object\n",
      "0         Bookcases\n",
      "1            Chairs\n",
      "2            Labels\n",
      "3            Tables\n",
      "4           Storage\n",
      "           ...     \n",
      "9989    Furnishings\n",
      "9990    Furnishings\n",
      "9991         Phones\n",
      "9992          Paper\n",
      "9993     Appliances\n",
      "Name: Sub-Category, Length: 9994, dtype: object\n"
     ]
    }
   ],
   "source": [
    "def listaCategorias(df):\n",
    "    for i in df: \n",
    "        print(df[\"Sub-Category\"])\n",
    "    \n",
    "listaCategorias(df)\n",
    "\n",
    "\n",
    "# if (qtdProdutos==0):\n",
    "#     listaCategorias(df)\n",
    "    "
   ]
  },
  {
   "cell_type": "code",
   "execution_count": null,
   "metadata": {},
   "outputs": [],
   "source": [
    "recomendation = (categories/categoriaEscolhida)"
   ]
  }
 ],
 "metadata": {
  "kernelspec": {
   "display_name": "Python 3",
   "language": "python",
   "name": "python3"
  },
  "language_info": {
   "codemirror_mode": {
    "name": "ipython",
    "version": 3
   },
   "file_extension": ".py",
   "mimetype": "text/x-python",
   "name": "python",
   "nbconvert_exporter": "python",
   "pygments_lexer": "ipython3",
   "version": "3.12.1"
  }
 },
 "nbformat": 4,
 "nbformat_minor": 2
}
