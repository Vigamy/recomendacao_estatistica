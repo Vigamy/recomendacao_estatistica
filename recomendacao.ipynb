{
 "cells": [
  {
   "cell_type": "markdown",
   "metadata": {},
   "source": [
    "# <center> 📈Trabalho Grupo Recomendações Estatística📈 </center>"
   ]
  },
  {
   "cell_type": "markdown",
   "metadata": {},
   "source": [
    "### Importando a(s) biblioteca(s)"
   ]
  },
  {
   "cell_type": "code",
   "execution_count": 2,
   "metadata": {},
   "outputs": [],
   "source": [
    "import pandas as pd"
   ]
  },
  {
   "cell_type": "markdown",
   "metadata": {},
   "source": [
    "### Pegando o excel e mostrando-o\n"
   ]
  },
  {
   "cell_type": "code",
   "execution_count": 19,
   "metadata": {},
   "outputs": [
    {
     "data": {
      "text/plain": [
       "0       CA-2016-152156\n",
       "1       CA-2016-152156\n",
       "2       CA-2016-138688\n",
       "3       US-2015-108966\n",
       "4       US-2015-108966\n",
       "             ...      \n",
       "9989    CA-2014-110422\n",
       "9990    CA-2017-121258\n",
       "9991    CA-2017-121258\n",
       "9992    CA-2017-121258\n",
       "9993    CA-2017-119914\n",
       "Name: Order ID, Length: 9994, dtype: object"
      ]
     },
     "metadata": {},
     "output_type": "display_data"
    }
   ],
   "source": [
    "df = pd.read_excel(\"loja.xlsx\")\n",
    "df_unicos = df[\"Sub-Category\"].unique()\n",
    "display(df)"
   ]
  },
  {
   "cell_type": "markdown",
   "metadata": {},
   "source": [
    "#### Importando as bibliotecas"
   ]
  },
  {
   "cell_type": "code",
   "execution_count": 4,
   "metadata": {},
   "outputs": [],
   "source": [
    "qtdCategorias = 1"
   ]
  },
  {
   "cell_type": "code",
   "execution_count": 5,
   "metadata": {},
   "outputs": [
    {
     "name": "stdout",
     "output_type": "stream",
     "text": [
      "4569\n",
      "4110\n",
      "2871\n",
      "2667\n",
      "2538\n",
      "2388\n",
      "2325\n",
      "1851\n",
      "1398\n",
      "1092\n",
      "957\n",
      "762\n",
      "684\n",
      "651\n",
      "570\n",
      "345\n",
      "204\n"
     ]
    },
    {
     "data": {
      "text/plain": [
       "array(['Bookcases', 'Chairs', 'Labels', 'Tables', 'Storage',\n",
       "       'Furnishings', 'Art', 'Phones', 'Binders', 'Appliances', 'Paper',\n",
       "       'Accessories', 'Envelopes', 'Fasteners', 'Supplies', 'Machines',\n",
       "       'Copiers'], dtype=object)"
      ]
     },
     "metadata": {},
     "output_type": "display_data"
    }
   ],
   "source": [
    "# if qtdProdutos < 0:# n\n",
    "\n",
    "\n",
    "\n",
    "\n",
    "total = df['Sub-Category'].unique()\n",
    "\n",
    "\n",
    "# print(total[1])\n",
    "\n",
    "\n",
    "tamanhos = []\n",
    "for i in range (df_unicos.size):\n",
    "    tamanho = df.loc[df['Sub-Category']==total[i]].size\n",
    "    tamanhos.append(tamanho)\n",
    "\n",
    "tamanhos_ordenados = sorted(tamanhos, reverse=True)\n",
    "\n",
    "\n",
    "for tamanho in tamanhos_ordenados:\n",
    "    print(tamanho)\n",
    "    \n",
    "    \n",
    "\n",
    "display(df_unicos)\n"
   ]
  },
  {
   "cell_type": "markdown",
   "metadata": {},
   "source": [
    "### Pegando os valores"
   ]
  },
  {
   "cell_type": "code",
   "execution_count": 6,
   "metadata": {},
   "outputs": [
    {
     "name": "stdout",
     "output_type": "stream",
     "text": [
      "Escolha uma categoria\n"
     ]
    }
   ],
   "source": [
    "print(\"Escolha uma categoria\")\n",
    "categoriaEscolhida = str(input(\"Categoria: \"))\n",
    "if categoriaEscolhida in df_unicos:\n",
    "    print(categoriaEscolhida)\n",
    "    \n"
   ]
  },
  {
   "cell_type": "markdown",
   "metadata": {},
   "source": [
    "### Se o usuário estiver com o carrinho vazio\n"
   ]
  },
  {
   "cell_type": "code",
   "execution_count": 7,
   "metadata": {},
   "outputs": [
    {
     "name": "stdout",
     "output_type": "stream",
     "text": [
      "Binders\n",
      "Seu carrinho está vazio, compre produtos desta sub categoria:  ('Binders', 1523)\n"
     ]
    }
   ],
   "source": [
    "# Conta as ocorrências e converte p dicionário, onde cada chave é uma sub-categoria e o valor são as ocorrências\n",
    "dicionario_categorias = df['Sub-Category'].value_counts().to_dict()\n",
    "\n",
    "# Encontrando a sub-categoria com o maior número de ocorrências\n",
    "maximo_vendida = max(dicionario_categorias, key=dicionario_categorias.get)\n",
    "print(maximo_vendida)\n",
    "valor_maximo = dicionario_categorias[maximo_vendida]\n",
    "\n",
    "# Armazenando a chave e o valor na variável\n",
    "categoria_mais_vendida = (maximo_vendida, valor_maximo)\n",
    "\n",
    "# mostrando a sub-categoria que vamos recomendar\n",
    "print(\"Seu carrinho está vazio, compre produtos desta sub categoria: \", categoria_mais_vendida)"
   ]
  },
  {
   "cell_type": "markdown",
   "metadata": {},
   "source": [
    "### Se o usuário tiver algo no carrinho\n"
   ]
  },
  {
   "cell_type": "code",
   "execution_count": 26,
   "metadata": {},
   "outputs": [
    {
     "name": "stdout",
     "output_type": "stream",
     "text": [
      "Recomendamos a subcategoria: Paper\n"
     ]
    }
   ],
   "source": [
    "def recomendar_subcategoria(subcategoria, df):\n",
    "    # Filtrar os pedidos que contêm a subcategoria fornecida\n",
    "    pedidos_com_subcategoria = df[df['Sub-Category'] == subcategoria]['Order ID'].unique()\n",
    "    \n",
    "    # Encontrar todas as subcategorias dos mesmos pedidos\n",
    "    subcategorias_relacionadas = df[df['Order ID'].isin(pedidos_com_subcategoria)]['Sub-Category']\n",
    "    \n",
    "    # Contar as ocorrências de cada subcategoria (exceto a subcategoria fornecida)\n",
    "    contagem_subcategorias = subcategorias_relacionadas[subcategorias_relacionadas != subcategoria].value_counts()\n",
    "    \n",
    "    # Encontrar a subcategoria mais comum\n",
    "    if not contagem_subcategorias.empty:\n",
    "        subcategoria_recomendada = contagem_subcategorias.idxmax()\n",
    "        return subcategoria_recomendada\n",
    "    else:\n",
    "        return None\n",
    "\n",
    "# Perguntar ao usuário qual foi a subcategoria do pedido dele\n",
    "subcategoria_usuario = input(\"Qual foi a subcategoria do seu pedido? \")\n",
    "\n",
    "# Obter a recomendação\n",
    "recomendacao = recomendar_subcategoria(subcategoria_usuario, df)\n",
    "\n",
    "if recomendacao:\n",
    "    print(f\"Recomendamos a subcategoria: {recomendacao}\")\n",
    "else:\n",
    "    print(\"Não há recomendações disponíveis para esta subcategoria.\")"
   ]
  }
 ],
 "metadata": {
  "kernelspec": {
   "display_name": "Python 3",
   "language": "python",
   "name": "python3"
  },
  "language_info": {
   "codemirror_mode": {
    "name": "ipython",
    "version": 3
   },
   "file_extension": ".py",
   "mimetype": "text/x-python",
   "name": "python",
   "nbconvert_exporter": "python",
   "pygments_lexer": "ipython3",
   "version": "3.12.1"
  }
 },
 "nbformat": 4,
 "nbformat_minor": 2
}
